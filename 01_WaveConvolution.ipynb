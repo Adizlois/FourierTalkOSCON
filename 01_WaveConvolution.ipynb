{
 "metadata": {
  "name": "01_WaveConvolution"
 },
 "nbformat": 3,
 "nbformat_minor": 0,
 "worksheets": [
  {
   "cells": [
    {
     "cell_type": "markdown",
     "metadata": {},
     "source": [
      "# The Superposition Principle\n",
      "\n",
      "[Wikipedia](http://en.wikipedia.org/wiki/Superposition_principle)"
     ]
    },
    {
     "cell_type": "code",
     "collapsed": false,
     "input": [],
     "language": "python",
     "metadata": {},
     "outputs": []
    }
   ],
   "metadata": {}
  }
 ]
}