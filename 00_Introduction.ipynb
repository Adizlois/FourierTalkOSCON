{
 "metadata": {
  "name": "00_Introduction"
 },
 "nbformat": 3,
 "nbformat_minor": 0,
 "worksheets": [
  {
   "cells": [
    {
     "cell_type": "markdown",
     "metadata": {},
     "source": [
      "# Sound Analysis with the Fourier Transform and Python\n",
      "\n",
      "Find outline [HERE](https://github.com/calebmadrigal/FourierTalkOSCON/blob/master/PRESENTATION_INDEX.md) - http://bit.ly/13HThQD\n",
      "\n",
      "## Overview\n",
      "\n",
      "* Intro (**YOU ARE HERE**)\n",
      "* 3 Mathematical foundations (to understand the FFT)\n",
      "* Using the Python libraries for doing Fourier analysis\n",
      "* Example application - audio filtering\n",
      "* Conclusion\n",
      "\n",
      "## Intro\n",
      "\n",
      "* No PowerPoint - Using iPython Notebook (along with numpy, matplotlib, scipy, etc)\n",
      "* Getting Here (see above link)\n",
      "* About me\n",
      "* Why this is interesting!\n",
      "  * Sound processing is big - natural human-machine interfaces (e.g. Siri)\n",
      "  * Noise reduction, Compression, feature extraction (e.g. speech)\n",
      "  * Waves are everywhere (sound, light, quantum mechanics), and the Fourier Transform is a powerful tool for understand them\n",
      "  * Understanding our universe better (Superposition, Harmonics, Sound timbre)\n",
      "\n"
     ]
    },
    {
     "cell_type": "code",
     "collapsed": false,
     "input": [],
     "language": "python",
     "metadata": {},
     "outputs": []
    }
   ],
   "metadata": {}
  }
 ]
}