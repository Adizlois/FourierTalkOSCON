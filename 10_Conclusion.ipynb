{
 "metadata": {
  "name": "10_Conclusion"
 },
 "nbformat": 3,
 "nbformat_minor": 0,
 "worksheets": [
  {
   "cells": [
    {
     "cell_type": "markdown",
     "metadata": {},
     "source": [
      "# Conclusion\n",
      "\n",
      "### We looked at:\n",
      "    \n",
      "1. The Fourier Transform (and 3 mathematical foundations)\n",
      "    - Fourier Transform\n",
      "    - Wave convolution (wave addition)\n",
      "    - Wave deconvolution (wave multiplication and summation)\n",
      "    - Rotation with e (via Euler's Formula)\n",
      "2. Fast Fourier Transform (FFT) in Python\n",
      "    - FFT in Python\n",
      "3. Audio analysis\n",
      "    - Seeing Sound\n",
      "    - Short-time Fourier Transform (STFT)\n",
      "    - Audio Filtering\n",
      "\n",
      "### Caveat\n",
      "\n",
      "* Audio analysis is difficult (mainly due to harmonics)\n",
      "\n",
      "\n",
      "# My contact info\n",
      "* http://calebmadrigal.com\n",
      "* http://github.com/calebmadrigal\n",
      "\n",
      "# Questions?"
     ]
    }
   ],
   "metadata": {}
  }
 ]
}