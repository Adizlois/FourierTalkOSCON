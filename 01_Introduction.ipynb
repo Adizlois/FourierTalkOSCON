{
 "metadata": {
  "name": "01_Introduction"
 },
 "nbformat": 3,
 "nbformat_minor": 0,
 "worksheets": [
  {
   "cells": [
    {
     "cell_type": "markdown",
     "metadata": {},
     "source": [
      "# Sound Analysis with the Fourier Transform and Python\n",
      "\n",
      "## Intro\n",
      "\n",
      "1. About me\n",
      "2. A lot to get through\n",
      "    - I'll be moving fast\n",
      "    - You don't need to take notes (http://bit.ly/15zoIIn)\n",
      "    - No PowerPoint - using iPython Notebook (along with numpy, matplotlib, scipy, etc)\n",
      "    - Please save questions for the end\n",
      "3. Why this is interesting!\n",
      "    - Sound processing is big - natural human-machine interfaces (e.g. Siri)\n",
      "    - Noise reduction, Compression, feature extraction (e.g. speech)\n",
      "    - Waves are everywhere (sound, light, quantum mechanics), and the Fourier Transform is a powerful tool for understand them\n",
      "    - Understanding our universe better (Superposition, Harmonics, Sound timbre)\n",
      "\n",
      "## Goals for this talk\n",
      "\n",
      "By the end, you should:\n",
      "\n",
      "* Have an intuitive understanding of the Fourier Transform (along with the DFT, FFT, and STFT).\n",
      "* Understand how to use the numpy FFT\n",
      "* See how to use the python FFT tools for basic audio analysis\n",
      "* See how to use iPython Notebooks (and related tools) to do some cool stuff\n",
      "* Gain some interesting knowledge about the nature of sound waves\n",
      "\n",
      "## Overview\n",
      "\n",
      "1. 3 Mathematical foundations (to understanding the Fourier Transform)\n",
      "    - Wave convolution (wave addition)\n",
      "    - Wave deconvolution (wave multiplication and summation)\n",
      "    - Rotation with e (via Euler's Formula) \n",
      "2. The Fourier Transform, and how to use the FFT in Python\n",
      "    - Fourier Transform\n",
      "    - FFT in Python\n",
      "3. Audio analysis\n",
      "    - Seeing Sound\n",
      "    - STFT\n",
      "    - Audio Filtering\n"
     ]
    }
   ],
   "metadata": {}
  }
 ]
}