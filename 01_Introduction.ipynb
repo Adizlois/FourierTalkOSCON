{
 "metadata": {
  "name": "01_Introduction"
 },
 "nbformat": 3,
 "nbformat_minor": 0,
 "worksheets": [
  {
   "cells": [
    {
     "cell_type": "markdown",
     "metadata": {},
     "source": [
      "# Sound Analysis with the Fourier Transform and Python\n",
      "\n",
      "## Overview\n",
      "\n",
      "* Intro (**YOU ARE HERE**)\n",
      "* 3 Mathematical foundations (to understand the FFT)\n",
      "* Using the Python libraries for doing Fourier analysis\n",
      "* Example application - audio filtering\n",
      "* Conclusion\n",
      "\n",
      "## Intro\n",
      "\n",
      "1. No PowerPoint - Using iPython Notebook (along with numpy, matplotlib, scipy, etc)\n",
      "2. Getting Here (see above link)\n",
      "3. About me\n",
      "4. Why this is interesting!\n",
      "    - Sound processing is big - natural human-machine interfaces (e.g. Siri)\n",
      "    - Noise reduction, Compression, feature extraction (e.g. speech)\n",
      "    - Waves are everywhere (sound, light, quantum mechanics), and the Fourier Transform is a powerful tool for understand them\n",
      "    - Understanding our universe better (Superposition, Harmonics, Sound timbre)\n",
      "\n"
     ]
    }
   ],
   "metadata": {}
  }
 ]
}