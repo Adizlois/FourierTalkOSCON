{
 "metadata": {
  "name": "01_Introduction"
 },
 "nbformat": 3,
 "nbformat_minor": 0,
 "worksheets": [
  {
   "cells": [
    {
     "cell_type": "markdown",
     "metadata": {},
     "source": [
      "# Sound Analysis with the Fourier Transform and Python\n",
      "\n",
      "### Link to repo: http://tinyurl.com/fourierpython\n",
      "\n",
      "## Intro\n",
      "\n",
      "\n",
      "1. Welcome\n",
      "2. Format of talk\n",
      "    - Everything is in iPython Notebook (on Github)\n",
      "    - You don't need to take notes\n",
      "    - Please save questions for the end\n",
      "3. Why this is interesting!\n",
      "    - Sound processing is big - natural human-machine interfaces (e.g. Siri)\n",
      "    - Noise reduction, Compression, feature extraction (e.g. speech)\n",
      "    - Understanding our universe better (Superposition, Harmonics, Sound timbre)\n",
      "\n",
      "---\n",
      "\n",
      "## Overview\n",
      "\n",
      "1. The Fourier Transform (and 3 mathematical foundations)\n",
      "    - Fourier Transform\n",
      "    - Wave convolution (wave addition)\n",
      "    - Wave deconvolution (wave multiplication and summation)\n",
      "    - Rotation with e (via Euler's Formula)\n",
      "2. Fast Fourier Transform (FFT) in Python\n",
      "    - FFT in Python\n",
      "3. Audio analysis\n",
      "    - Seeing Sound\n",
      "    - Short-time Fourier Transform (STFT)\n",
      "    - Audio Filtering\n"
     ]
    }
   ],
   "metadata": {}
  }
 ]
}