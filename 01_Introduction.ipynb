{
 "metadata": {
  "name": "01_Introduction"
 },
 "nbformat": 3,
 "nbformat_minor": 0,
 "worksheets": [
  {
   "cells": [
    {
     "cell_type": "markdown",
     "metadata": {},
     "source": [
      "# Sound Analysis with the Fourier Transform and Python\n",
      "\n",
      "## Overview\n",
      "\n",
      "* Intro (**YOU ARE HERE**)\n",
      "* 3 Mathematical foundations\n",
      "* FFT, FFT in Python\n",
      "* Audio Filtering\n",
      "* Conclusion\n",
      "\n",
      "## Intro\n",
      "\n",
      "1. A lot to get through\n",
      "    - I'll be moving fast\n",
      "    - You don't need to take notes (http://bit.ly/15zoIIn)\n",
      "    - Please save questions for the end\n",
      "2. No PowerPoint - using iPython Notebook (along with numpy, matplotlib, scipy, etc)\n",
      "3. About me\n",
      "4. Why this is interesting!\n",
      "    - Sound processing is big - natural human-machine interfaces (e.g. Siri)\n",
      "    - Noise reduction, Compression, feature extraction (e.g. speech)\n",
      "    - Waves are everywhere (sound, light, quantum mechanics), and the Fourier Transform is a powerful tool for understand them\n",
      "    - Understanding our universe better (Superposition, Harmonics, Sound timbre)\n",
      "\n",
      "## Goals for this talk\n",
      "\n",
      "By the end, you should:\n",
      "\n",
      "* Have an intuitive understanding of the Fourier Transform (along with the DFT, FFT, and STFT).\n",
      "* Understand how to use the numpy FFT\n",
      "* See how to use the python FFT tools for basic audio analysis\n",
      "* See how to use iPython Notebooks (and related tools) to do some cool stuff\n",
      "* Gain some interesting knowledge about the nature of sound waves\n"
     ]
    }
   ],
   "metadata": {}
  }
 ]
}