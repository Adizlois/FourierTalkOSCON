{
 "metadata": {
  "name": "12_Conclusion"
 },
 "nbformat": 3,
 "nbformat_minor": 0,
 "worksheets": [
  {
   "cells": [
    {
     "cell_type": "markdown",
     "metadata": {},
     "source": [
      "# Conclusion\n",
      "\n",
      "### We looked at:\n",
      "    \n",
      "1. 3 Mathematical foundations (to understanding the FFT)\n",
      "    - Wave convolution (wave addition)\n",
      "    - Wave deconvolution (wave multiplication and summation)\n",
      "    - Rotation with e (via Euler's Formula) \n",
      "2. The FFT, and how to use it in Python\n",
      "    - Fourier Transform\n",
      "    - FFT in Python\n",
      "3. Audio analysis\n",
      "    - Harmonics and Timbre\n",
      "    - Hamming Window\n",
      "    - STFT\n",
      "    - Audio Filtering\n",
      "\n",
      "### Caveats\n",
      "\n",
      "* Audio analysis is difficult (mainly due to harmonics)\n",
      "\n",
      "\n",
      "# My contact info\n",
      "* http://calebmadrigal.com\n",
      "* http://github.com/calebmadrigal\n",
      "\n",
      "# Questions?"
     ]
    }
   ],
   "metadata": {}
  }
 ]
}